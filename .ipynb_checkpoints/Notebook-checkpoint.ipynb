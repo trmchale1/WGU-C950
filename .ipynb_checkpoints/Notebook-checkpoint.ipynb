{
 "cells": [
  {
   "cell_type": "code",
   "execution_count": 2,
   "id": "fd067d1d",
   "metadata": {},
   "outputs": [
    {
     "name": "stdout",
     "output_type": "stream",
     "text": [
      "Local time:  Thu Jun 24 17:50:08 2021\n"
     ]
    }
   ],
   "source": [
    "import time\n",
    "seconds = 1545925769.9618232\n",
    "local_time = time.ctime()\n",
    "print(\"Local time: \", local_time)"
   ]
  },
  {
   "cell_type": "code",
   "execution_count": 8,
   "id": "91ec7621",
   "metadata": {},
   "outputs": [
    {
     "name": "stdout",
     "output_type": "stream",
     "text": [
      "Print now\n",
      "This is printed after 2.4 sec\n",
      "Local time: Fri Dec 28 08:44:04 2018\n"
     ]
    }
   ],
   "source": [
    "print(\"Print now\")\n",
    "time.sleep(2.4)\n",
    "print(\"This is printed after 2.4 sec\")\n",
    "\n",
    "t = (2018,12,28,8,44,4,4,362,0)\n",
    "\n",
    "local_time = time.asctime(t)\n",
    "print(\"Local time:\", local_time)\n",
    "\n",
    "\n",
    "\n"
   ]
  },
  {
   "cell_type": "code",
   "execution_count": 9,
   "id": "c4bffc0c",
   "metadata": {},
   "outputs": [
    {
     "data": {
      "text/plain": [
       "'Thu Jun 24 18:02:37 2021'"
      ]
     },
     "execution_count": 9,
     "metadata": {},
     "output_type": "execute_result"
    }
   ],
   "source": [
    "from time import time, ctime\n",
    "t = time()\n",
    "ctime(t)"
   ]
  },
  {
   "cell_type": "code",
   "execution_count": null,
   "id": "23953314",
   "metadata": {},
   "outputs": [],
   "source": [
    "import datetime\n",
    "s = datetime.timedelta(hours=8,minutes=0,seconds=0)"
   ]
  }
 ],
 "metadata": {
  "kernelspec": {
   "display_name": "Python 3",
   "language": "python",
   "name": "python3"
  },
  "language_info": {
   "codemirror_mode": {
    "name": "ipython",
    "version": 3
   },
   "file_extension": ".py",
   "mimetype": "text/x-python",
   "name": "python",
   "nbconvert_exporter": "python",
   "pygments_lexer": "ipython3",
   "version": "3.9.5"
  }
 },
 "nbformat": 4,
 "nbformat_minor": 5
}
